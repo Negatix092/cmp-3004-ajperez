{
 "cells": [
  {
   "attachments": {},
   "cell_type": "markdown",
   "metadata": {},
   "source": [
    "# Try with Iterators and Simple Loop"
   ]
  },
  {
   "cell_type": "code",
   "execution_count": 14,
   "metadata": {
    "vscode": {
     "languageId": "python"
    }
   },
   "outputs": [
    {
     "data": {
      "text/html": [
       "Changes: <br /><table><tr><th>Type</th><th>Identifier</th><th>Value</th><tr><td>Register</td><td>EAX</td>\n",
       "            <td>210</td></tr><tr><td>Register</td><td>ECX</td>\n",
       "            <td>0</td></tr><tr><td>Flag</td><td>ZF</td>\n",
       "            <td>1</td></tr><tr><td>Flag</td><td>SF</td>\n",
       "            <td>0</td></tr></table>"
      ]
     },
     "metadata": {},
     "output_type": "display_data"
    }
   ],
   "source": [
    "mov eax, 0              ;I initialize my variable for the total of the sum in 0\n",
    "mov ecx, 20             ;Number until the sum will be performed\n",
    "loop: add eax, ecx      ;Simple command for adding two numbers\n",
    "      dec ecx           ;Decreasing the value of the final number by 1\n",
    "      cmp ecx, 0        ;If the final number is not 0, the loop will happen again\n",
    "      jne loop"
   ]
  },
  {
   "attachments": {},
   "cell_type": "markdown",
   "metadata": {},
   "source": [
    "# Try with arrays"
   ]
  },
  {
   "attachments": {},
   "cell_type": "markdown",
   "metadata": {},
   "source": [
    "x DB 1, 2, 3, 4, 5, 6, 7, 8, 9, 10\n",
    "\n",
    "mov size, 10\n",
    "mov el, 0              \n",
    "ldr c, =x \n",
    "mov d, 0\n",
    "mov sum, 0            \n",
    "loop: ldrsb el, [c, d]      \n",
    "      add sum, sum, el            \n",
    "      add d, d, 1\n",
    "      cmp d, size\n",
    "      jne loop"
   ]
  }
 ],
 "metadata": {
  "kernelspec": {
   "display_name": "Intel",
   "language": "",
   "name": "intel"
  },
  "language_info": {
   "file_extension": "x86",
   "mimetype": "intel",
   "name": "intel"
  },
  "orig_nbformat": 4
 },
 "nbformat": 4,
 "nbformat_minor": 2
}
