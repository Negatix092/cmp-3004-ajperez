{
 "cells": [
  {
   "cell_type": "code",
   "execution_count": 1,
   "metadata": {
    "vscode": {
     "languageId": "python"
    }
   },
   "outputs": [
    {
     "data": {
      "text/html": [
       "Changes: <br /><table><tr><th>Type</th><th>Identifier</th><th>Value</th></table>"
      ]
     },
     "metadata": {},
     "output_type": "display_data"
    }
   ],
   "source": [
    ".data\n",
    "    x DB 1,2,3,4,5,6,7,8,9,10"
   ]
  },
  {
   "cell_type": "code",
   "execution_count": 2,
   "metadata": {
    "vscode": {
     "languageId": "python"
    }
   },
   "outputs": [
    {
     "data": {
      "text/html": [
       "Changes: <br /><table><tr><th>Type</th><th>Identifier</th><th>Value</th><tr><td>Register</td><td>EAX</td>\n",
       "            <td>0</td></tr><tr><td>Register</td><td>EBX</td>\n",
       "            <td>55</td></tr><tr><td>Register</td><td>ECX</td>\n",
       "            <td>10</td></tr><tr><td>Flag</td><td>SF</td>\n",
       "            <td>0</td></tr><tr><td>Flag</td><td>ZF</td>\n",
       "            <td>1</td></tr></table>"
      ]
     },
     "metadata": {},
     "output_type": "display_data"
    }
   ],
   "source": [
    "mov eax, 10\n",
    "mov ebx, 0\n",
    "mov ecx, x            \n",
    "loop: add ebx, [ecx]      \n",
    "      add ecx, 1            \n",
    "      dec eax\n",
    "      cmp eax, 0\n",
    "      jne loop"
   ]
  },
  {
   "cell_type": "code",
   "execution_count": null,
   "metadata": {
    "vscode": {
     "languageId": "python"
    }
   },
   "outputs": [],
   "source": []
  }
 ],
 "metadata": {
  "kernelspec": {
   "display_name": "Intel",
   "language": "",
   "name": "intel"
  },
  "language_info": {
   "file_extension": "x86",
   "mimetype": "intel",
   "name": "intel"
  },
  "orig_nbformat": 4
 },
 "nbformat": 4,
 "nbformat_minor": 2
}
