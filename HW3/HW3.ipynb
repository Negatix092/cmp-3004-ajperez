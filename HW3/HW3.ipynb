{
 "cells": [
  {
   "attachments": {},
   "cell_type": "markdown",
   "metadata": {},
   "source": [
    "# CMP-3004\n",
    "\n",
    "# Computer Organization\n",
    "\n",
    "## Spring 2023\n",
    "\n",
    "# Homework 3\n",
    "\n",
    "### 1. Use assembly to solve the following problems:\n",
    "\n",
    "* Obtain the 50th Fibonacci number\n",
    "\n"
   ]
  },
  {
   "cell_type": "code",
   "execution_count": 8,
   "metadata": {
    "vscode": {
     "languageId": "python"
    }
   },
   "outputs": [
    {
     "name": "stdout",
     "output_type": "stream",
     "text": [
      "Line 2: Invalid argument: \"%d\\n\""
     ]
    }
   ],
   "source": [
    "\t    .data\n",
    "LC0:\t.asciiz \"%d\\n\"\n",
    "\n",
    "\t    .text\n",
    "\t    .globl\t\tfib\n",
    "fib:\n",
    "\t    addiu\t$sp, $sp, -8\t# se setea el puntero \n",
    "\t    sw\t    $ra, 0($sp)\t\t# se guarda la dirección del return\n",
    "\t\n",
    "\t    # Prolog de la función\n",
    "\t    sw\t    $fp, -4($sp)\t# se guarda el puntero anterior\n",
    "\t    move\t$fp, $sp\t\t# se setea el nuevo puntero\n",
    "\t\n",
    "\t    # Cuerpo de la función\n",
    "\t    lw\t    $a0, 0($fp)\t\t# se carga el valor de n\n",
    "\t    li\t    $v0, 1\t\t\t# se carga el valor 1 en v0\n",
    "\t    slt\t    $v1, $a0, $v0\t# se compara n con 1\n",
    "\t    bne\t    $v1, $zero, L1\t# se salta si n > 1\n",
    "\t\n",
    "\t    # Caso base: n <= 1\n",
    "\t    move\t$v0, $a0\t\t# Retornar n\n",
    "\t    j\tfib_exit\t\t    # Saltar a la salida de la función\n",
    "\t\n",
    "L1:\n",
    "\t    addiu\t$a0, $a0, -1\t# se disminuye n en 1\n",
    "\t    jal\t    fib\t\t\t    # se usa recursividad para fib(n-1)\n",
    "\t    move\t$s0, $v0\t\t# se guarda el resultado en s0\n",
    "\t\n",
    "\t    addiu\t$a0, $a0, -1\t# se disminuye n en 1\n",
    "\t    jal\t    fib\t\t\t    # se usa recursividad para fib(n-2)\n",
    "\t    add\t    $v0, $s0, $v0\t# se suma el resultado de fib(n-1) con fib(n-2)\n",
    "\t    j\t    fib_exit\t\t# saltar a la salida de la función\n",
    "\n",
    "fib_exit:\n",
    "\t    \n",
    "\t    move\t$sp, $fp\t\t# se reinicia el puntero \n",
    "\t    lw\t    $ra, 0($sp)\t\t# se reinicia la dirección del return\n",
    "\t    addiu\t$sp, $sp, 8\t\t# se ajusta el puntero\n",
    "\t\n",
    "\t    jr\t    $ra\t\t\t    # se retorna desde fib\n",
    "\n",
    "\t    .globl\t\tmain\n",
    "main:\n",
    "\t    addiu\t$sp, $sp, -8\t# se ajusta el puntero\n",
    "\t    sw\t    $ra, 0($sp)\t\t# se guarda la dirección del return\n",
    "\t\n",
    "\t    # Prolog de la función\n",
    "\t    sw\t    $fp, -4($sp)\t# se guarda el puntero anterior\n",
    "\t    move\t$fp, $sp\t\t# se setea el nuevo puntero\n",
    "\t\n",
    "\t    # Cuerpo de la función\n",
    "\t    li\t    $a0, 50\t\t\t# se hace que n sea 50\n",
    "\t    jal\t    fib\t\t\t    # se llama a la función fib\n",
    "\t    move\t$a0, $v0\t\t# se mueve el resultado de fib a a0\n",
    "\t    jal\t    print_integer\t# se llama a la función print_integer\n",
    "\t\n",
    "\t    li\t    $v0, 5\t\t\t# número de llamada al sistema para leer un entero\n",
    "\t    syscall\t\t\t\t    # leer un entero\n",
    "\t\n",
    "\t    move\t$v0, $zero\t\t# se hace que el valor del return sea 0\n",
    "\t\n",
    "\t    # Epílogo de la función\n",
    "\t    move\t$sp, $fp\t\t# Restaurar puntero de pila\n",
    "\t    lw\t    $ra, 0($sp)\t\t# Restaurar dirección de retorno\n",
    "\t    addiu\t$sp, $sp, 8\t\t# Ajustar puntero de pila\n",
    "\t\n",
    "\t    jr\t    $ra\t\t\t    # Retornar desde main\n",
    "\n",
    "print_integer:\n",
    "\t    addiu\t$sp, $sp, -8\t# Ajustar puntero de pila\n",
    "\t    sw  \t$ra, 0($sp)\t\t# Guardar dirección de retorno\n",
    "\t\n",
    "\t    # Imprimir entero\n",
    "\t    move\t$t0, $a0\t\t# Mover el entero a $t0"
   ]
  },
  {
   "attachments": {},
   "cell_type": "markdown",
   "metadata": {},
   "source": [
    "* Find out if a given year is leap"
   ]
  },
  {
   "attachments": {},
   "cell_type": "markdown",
   "metadata": {},
   "source": [
    "the following code was tested in mars 4.5 and it worked well"
   ]
  },
  {
   "cell_type": "code",
   "execution_count": 13,
   "metadata": {
    "vscode": {
     "languageId": "python"
    }
   },
   "outputs": [
    {
     "name": "stdout",
     "output_type": "stream",
     "text": [
      "Line 2: Invalid argument: \"Es"
     ]
    }
   ],
   "source": [
    ".data\n",
    "leapyear:    .asciiz \"Es bisiesto\"\n",
    "notleapyear:    .asciiz \"No es bisiesto\"\n",
    "\n",
    ".text\n",
    ".globl main\n",
    "\n",
    "main:\n",
    "    li $t0, 2005\n",
    "    \n",
    "    # Check if the year is a leap year\n",
    "    rem $t1, $t0, 4          # Calculate t1 = year % 4\n",
    "    bnez $t1, not_leap_year   # If t1 != 0, it's not a leap year\n",
    "    \n",
    "    rem $t1, $t0, 100        # Calculate t1 = year % 100\n",
    "    beqz $t1, leap_year       # If t1 == 0, it's a leap year\n",
    "    \n",
    "    rem $t1, $t0, 400        # Calculate t1 = year % 400\n",
    "    bnez $t1, not_leap_year   # If t1 != 0, it's not a leap year\n",
    "    \n",
    "leap_year:\n",
    "    li $v0, 4                 # System call number for printing a string\n",
    "    la $a0, leapyear               # Load address of the leap year message\n",
    "    syscall                   # Print the message\n",
    "    \n",
    "    j exit\n",
    "    \n",
    "not_leap_year:\n",
    "    li $v0, 4                 # System call number for printing a string\n",
    "    la $a0, notleapyear               # Load address of the non-leap year message\n",
    "    syscall                   # Print the message\n",
    "    \n",
    "    j exit\n",
    "    \n",
    "exit:\n",
    "    li $v0, 10                # System call number for exit\n",
    "    syscall                   # Terminate the program"
   ]
  },
  {
   "attachments": {},
   "cell_type": "markdown",
   "metadata": {},
   "source": [
    "* Given an array of integers, calculate the average"
   ]
  },
  {
   "cell_type": "code",
   "execution_count": 15,
   "metadata": {
    "vscode": {
     "languageId": "python"
    }
   },
   "outputs": [
    {
     "name": "stdout",
     "output_type": "stream",
     "text": [
      "Line 2: Invalid argument: #"
     ]
    }
   ],
   "source": [
    ".data\n",
    "array: .word 26, 92, 13, 2, 8  # Example array of integers\n",
    "array_size: .word 5          # Size of the array\n",
    "result_msg: .asciiz \"The average is: \"\n",
    "format_float: .asciiz \"%f\"\n",
    "\n",
    ".text\n",
    ".globl main\n",
    "\n",
    "main:\n",
    "    # Calculate the sum of the array elements\n",
    "    lw $t0, array_size         # Load the array size\n",
    "    li $t1, 0                  # Initialize the sum to zero\n",
    "    \n",
    "    loop:\n",
    "        beq $t0, $zero, calculate_average  # If array size is zero, calculate average\n",
    "        \n",
    "        lw $t2, array($t0)      # Load the array element\n",
    "        add $t1, $t1, $t2       # Add the element to the sum\n",
    "        sub $t0, $t0, 4         # Decrement the array size (assuming each element is 4 bytes)\n",
    "        j loop\n",
    "\n",
    "    calculate_average:\n",
    "        # Calculate the average\n",
    "        mtc1 $t1, $f0            # Move the sum to floating-point register $f0\n",
    "        cvt.s.w $f0, $f0         # Convert the sum to single precision\n",
    "        lwc1 $f1, array_size     # Load the array size to floating-point register $f1\n",
    "        div.s $f2, $f0, $f1      # Divide the sum by the array size to get the average\n",
    "\n",
    "        # Print the result\n",
    "        li $v0, 2                # System call code 2 for printing float\n",
    "        la $a0, result_msg       # Load the message for printing\n",
    "        syscall\n",
    "\n",
    "        li $v0, 2                # System call code 2 for printing float\n",
    "        mov.s $f12, $f2          # Move the average to floating-point register $f12\n",
    "        syscall\n",
    "\n",
    "    # Exit the program\n",
    "    li $v0, 10\n",
    "    syscall\n"
   ]
  },
  {
   "attachments": {},
   "cell_type": "markdown",
   "metadata": {},
   "source": [
    "* Write a program to transform from Celsius to Fahrenheit and vice versa"
   ]
  },
  {
   "cell_type": "code",
   "execution_count": 14,
   "metadata": {
    "vscode": {
     "languageId": "python"
    }
   },
   "outputs": [
    {
     "name": "stdout",
     "output_type": "stream",
     "text": [
      "Line 2: Invalid argument: \"\\n"
     ]
    }
   ],
   "source": [
    ".data\n",
    "prompt_fahrenheit: .asciiz \"\\n Enter the temperature in Fahrenheit: \"\n",
    "format_float: .asciiz \"%f\"\n",
    "result_celsius: .asciiz \"\\n The temperature %.2f in Fahrenheit is %.2f in Celsius\\n\"\n",
    "prompt_celsius: .asciiz \"\\n Enter the temperature in Celsius: \"\n",
    "result_fahrenheit: .asciiz \"\\n The temperature %.2f in Celsius is %.2f in Fahrenheit\\n\"\n",
    "fahrenheit_constant: .float 32.0\n",
    "celsius_constant1: .float 0.5556\n",
    "celsius_constant: .float 1.8\n",
    "\n",
    ".text\n",
    ".globl main\n",
    "\n",
    "main:\n",
    "    # Print prompt for Fahrenheit temperature\n",
    "    li $v0, 4\n",
    "    la $a0, prompt_fahrenheit\n",
    "    syscall\n",
    "    \n",
    "    # Read Fahrenheit temperature\n",
    "    li $v0, 6\n",
    "    syscall\n",
    "    mov.s $f12, $f0\n",
    "    \n",
    "    # Load Fahrenheit constant from memory\n",
    "    l.s $f10, fahrenheit_constant\n",
    "    \n",
    "    # Convert Fahrenheit to Celsius\n",
    "    sub.s $f1, $f12, $f10\n",
    "    l.s $f11, celsius_constant1\n",
    "    mul.s $f2, $f1, $f11\n",
    "    \n",
    "    # Print result\n",
    "    li $v0, 2\n",
    "    la $a0, result_celsius\n",
    "    mov.s $f12, $f2\n",
    "    syscall\n",
    "    \n",
    "    # Print prompt for Celsius temperature\n",
    "    li $v0, 4\n",
    "    la $a0, prompt_celsius\n",
    "    syscall\n",
    "    \n",
    "    # Read Celsius temperature\n",
    "    li $v0, 6\n",
    "    syscall\n",
    "    mov.s $f12, $f0\n",
    "    \n",
    "    # Load Celsius constant from memory\n",
    "    l.s $f10, celsius_constant\n",
    "    \n",
    "    # Convert Celsius to Fahrenheit\n",
    "    mul.s $f1, $f12, $f10\n",
    "    l.s $f11, fahrenheit_constant\n",
    "    add.s $f2, $f1, $f11\n",
    "    \n",
    "    # Print result\n",
    "    li $v0, 2\n",
    "    la $a0, result_fahrenheit\n",
    "    mov.s $f12, $f2\n",
    "    syscall\n",
    "    \n",
    "    # Exit the program\n",
    "    li $v0, 10\n",
    "    syscall"
   ]
  },
  {
   "attachments": {},
   "cell_type": "markdown",
   "metadata": {},
   "source": [
    "### 2. For the following memory space, what would it look like after executing the assembly code below:"
   ]
  },
  {
   "attachments": {},
   "cell_type": "markdown",
   "metadata": {},
   "source": [
    "* `LOAD 14` = this instruction is loading the value of the address $14$ $(7)$ into a register.\n",
    "* `ADD (12)` =  this instruction is adding the value of the address $12$ $(5)$ to the value previously stored in the register $(7)$. As a result, this instruction is making the operation: $5+7$\n",
    "* `STORE 12` = this instruction is storing the resulting value of the previous instruction $(5+7)$ into address $12$. So, now address $12$ is not $5$, but $12$. \n",
    "\n",
    "All the other contents of the other addresses are still the same. "
   ]
  },
  {
   "attachments": {},
   "cell_type": "markdown",
   "metadata": {},
   "source": [
    "### 3. Implement a function named `abs_diff` that calculates the absolute value of the difference of two inputs `a` and `b` (i.e., |a-b|), and get the assembly code output"
   ]
  },
  {
   "attachments": {},
   "cell_type": "markdown",
   "metadata": {},
   "source": [
    "Assembly out put obtained after using command `gcc -O1 -S ./abs.c`, where abs.c is the c program of the asked function:"
   ]
  },
  {
   "cell_type": "code",
   "execution_count": null,
   "metadata": {
    "vscode": {
     "languageId": "python"
    }
   },
   "outputs": [],
   "source": [
    "\t.file\t\"abs.c\"\n",
    "\t.text\n",
    "\t.globl\tabs_diff\n",
    "    .type\tabs_diff, @function\n",
    "\t.section .rdata,\"dr\"\n",
    ".LC0:\n",
    "\t.ascii \"Enter a: \\0\"\n",
    ".LC1:\n",
    "\t.ascii \"%d\\0\"\n",
    ".LC2:\n",
    "\t.ascii \"Enter b: \\0\"\n",
    "\t.align 8\n",
    ".LC3:\n",
    "\t.ascii \"\\12absolute difference between %d and %d is = %d\\0\"\n",
    "\t.text\n",
    "\t.globl\tmain\n",
    "\t.def\tmain;\t.scl\t2;\t.type\t32;\t.endef\n",
    "\t.seh_proc\tmain\n",
    "abs_diff:\n",
    "\tpushq\t%rbx\n",
    "\t.seh_pushreg\t%rbx\n",
    "\tsubq\t$48, %rsp\n",
    "\t.seh_stackalloc\t48\n",
    "\t.seh_endprologue\n",
    "\tcall\t__main\n",
    "\tleaq\t.LC0(%rip), %rcx\n",
    "\tcall\tprintf\n",
    "\tleaq\t44(%rsp), %rdx\n",
    "\tleaq\t.LC1(%rip), %rbx\n",
    "\tmovq\t%rbx, %rcx\n",
    "\tcall\tscanf\n",
    "\tleaq\t.LC2(%rip), %rcx\n",
    "\tcall\tprintf\n",
    "\tleaq\t40(%rsp), %rdx\n",
    "\tmovq\t%rbx, %rcx\n",
    "\tcall\tscanf\n",
    "\tmovl\t44(%rsp), %edx\n",
    "\tmovl\t40(%rsp), %r8d\n",
    "\tmovl\t%edx, %eax\n",
    "\tsubl\t%r8d, %eax\n",
    "\tmovl\t%r8d, %r9d\n",
    "\tsubl\t%edx, %r9d\n",
    "\tcmpl\t%r8d, %edx\n",
    "\tcmovg\t%eax, %r9d\n",
    "\tleaq\t.LC3(%rip), %rcx\n",
    "\tcall\tprintf\n",
    "\tmovl\t$0, %eax\n",
    "\taddq\t$48, %rsp\n",
    "\tpopq\t%rbx\n",
    "\tret\n",
    "\t.seh_endproc\n",
    "\t.ident\t\"GCC: (MinGW-W64 x86_64-ucrt-posix-seh, built by Brecht Sanders) 12.2.0\"\n",
    "\t.def\tprintf;\t.scl\t2;\t.type\t32;\t.endef\n",
    "\t.def\tscanf;\t.scl\t2;\t.type\t32;\t.endef"
   ]
  },
  {
   "attachments": {},
   "cell_type": "markdown",
   "metadata": {},
   "source": [
    "modified program in order to run it in mars mips simulator 4.5:"
   ]
  },
  {
   "cell_type": "code",
   "execution_count": 16,
   "metadata": {
    "vscode": {
     "languageId": "python"
    }
   },
   "outputs": [
    {
     "name": "stdout",
     "output_type": "stream",
     "text": [
      "Line 2: Invalid argument: \"Enter"
     ]
    }
   ],
   "source": [
    ".data\n",
    "prompt_first: .asciiz \"Enter a: \"\n",
    "format_int: .asciiz \"%d\"\n",
    "prompt_second: .asciiz \"Enter b: \"\n",
    "result_msg: .asciiz \"\\nAbsolute difference between %d and %d is = %d\\n\"\n",
    "\n",
    ".text\n",
    ".globl abs_diff\n",
    "\n",
    "abs_diff:\n",
    "    # Prompt for the first number\n",
    "    li $v0, 4\n",
    "    la $a0, prompt_first\n",
    "    syscall\n",
    "    \n",
    "    # Read the first number\n",
    "    li $v0, 5\n",
    "    syscall\n",
    "    move $s0, $v0\n",
    "    \n",
    "    # Prompt for the second number\n",
    "    li $v0, 4\n",
    "    la $a0, prompt_second\n",
    "    syscall\n",
    "    \n",
    "    # Read the second number\n",
    "    li $v0, 5\n",
    "    syscall\n",
    "    move $s1, $v0\n",
    "    \n",
    "    # Calculate the difference\n",
    "    sub $s2, $s0, $s1\n",
    "    \n",
    "    # Print the result\n",
    "    li $v0, 1\n",
    "    move $a0, $s0\n",
    "    syscall\n",
    "    \n",
    "    li $v0, 1\n",
    "    move $a0, $s1\n",
    "    syscall\n",
    "    \n",
    "    li $v0, 1\n",
    "    move $a0, $s2\n",
    "    syscall\n",
    "    \n",
    "    # Exit the program\n",
    "    li $v0, 10\n",
    "    syscall"
   ]
  },
  {
   "attachments": {},
   "cell_type": "markdown",
   "metadata": {},
   "source": [
    "### 4. What are the differences among sequential access, direct access, and random access?\n",
    "\n",
    "References used: \n",
    "* https://www.geeksforgeeks.org/sequential-access-vs-direct-access-vs-random-access/\n",
    "* https://www.techwalla.com/articles/direct-access-vs-sequential-access-vs-random-access\n",
    "\n",
    "\n",
    "\n",
    "Sequential Access vs Direct Access: Streaming huge files or processing data sequentially are two examples of applications that would benefit from sequential access as opposed to direct access. Applications that need for speedy retrieval or change of particular data units, like querying or updating records in a database, are best served by direct access.\n",
    "\n",
    "\n",
    "Sequential Access vs Random Access: Comparing sequential access to random access, sequential access is easier to implement and uses less overhead. While random access offers the freedom of immediately accessing any element, sequential access is efficient for activities that involve processing data in a particular order.\n",
    "\n",
    "Direct Acess vs Random Access: Direct access entails using precise addresses or indexes to quickly access particular blocks or records of data. Random access enables quick accessibility to any data element regardless of its position, making it ideal for scenarios requiring fast and unpredictable access to data.\n",
    "\n"
   ]
  },
  {
   "attachments": {},
   "cell_type": "markdown",
   "metadata": {},
   "source": [
    "### 5. What common characteristics are shared by all RAID levels?\n",
    "\n",
    "* Fault Tolerance: Several RAID levels provide fault tolerance by employing redundancy strategies like mirroring or parity data to safeguard data in the event of disk failures.\n",
    "\n",
    "* Performance Enhancement: By providing parallel data access across several drives, RAID levels improve performance. This leads to an improvement in data transfer rate and I/O performance.\n",
    "\n",
    "* Capacity Enhancement: RAID levels boost storage capacity by combining the capacity of several drives into a single logical volume.\n",
    "\n",
    "* Data striping: To divide data into blocks and spread them over several drives, RAID levels use data striping. This improves read and write performance.\n",
    "\n",
    "* Data Distribution: Different RAID levels use different algorithms or parity approaches to disperse data among disks.\n",
    "\n",
    "references: \n",
    "\n",
    "* https://www.pcguide.com/ref/hdd/perf/raid/levels/index.htm\n",
    "* https://www.geeksforgeeks.org/raid-redundant-array-of-independent-disks/\n",
    "\n"
   ]
  },
  {
   "cell_type": "code",
   "execution_count": null,
   "metadata": {
    "vscode": {
     "languageId": "python"
    }
   },
   "outputs": [],
   "source": []
  }
 ],
 "metadata": {
  "kernelspec": {
   "display_name": "Intel",
   "language": "",
   "name": "intel"
  },
  "language_info": {
   "file_extension": "x86",
   "mimetype": "intel",
   "name": "intel"
  },
  "orig_nbformat": 4
 },
 "nbformat": 4,
 "nbformat_minor": 2
}
